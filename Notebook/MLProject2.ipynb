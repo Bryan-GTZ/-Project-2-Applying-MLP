{
 "cells": [
  {
   "cell_type": "code",
   "execution_count": 2,
   "id": "4a8386af",
   "metadata": {},
   "outputs": [],
   "source": [
    "# Import necessary libraries\n",
    "import pandas as pd\n",
    "import numpy as np\n",
    "from sklearn.metrics import confusion_matrix, ConfusionMatrixDisplay, classification_report, precision_recall_fscore_support, accuracy_score\n",
    "from sklearn.model_selection import train_test_split, GridSearchCV\n",
    "from sklearn.preprocessing import StandardScaler, OneHotEncoder\n",
    "from sklearn.compose import ColumnTransformer\n",
    "from sklearn.pipeline import Pipeline\n",
    "from sklearn.neural_network import MLPClassifier\n",
    "from scipy.sparse import issparse\n",
    "import matplotlib.pyplot as plt"
   ]
  },
  {
   "cell_type": "code",
   "execution_count": 3,
   "id": "0e184c6b",
   "metadata": {},
   "outputs": [],
   "source": [
    "# Load the datasets\n",
    "#na_values =  ? tells pandas to treat any value with a ? as a null.\n",
    "df_train = pd.read_csv('project_adult.csv', index_col=0, na_values='?')\n",
    "df_validation = pd.read_csv('project_validation_inputs.csv', index_col=0, na_values='?')\n",
    "\n",
    "#Seperate columns into numerical and categorical manually\n",
    "numerical_cols = ['age', 'fnlwgt', 'education-num', 'capital-gain', 'capital-loss', 'hours-per-week']\n",
    "categorical_cols = df_train.select_dtypes(include=['object']).columns.drop('income')"
   ]
  },
  {
   "cell_type": "code",
   "execution_count": 4,
   "id": "bc5fde11",
   "metadata": {},
   "outputs": [],
   "source": [
    "# Replace missing values with median for numerical columns\n",
    "for col in numerical_cols:\n",
    "    median_value = df_train[col].median()\n",
    "    df_train[col].fillna(median_value, inplace=True)\n",
    "    df_validation[col].fillna(median_value, inplace=True)\n",
    "\n",
    "# Replace missing values with mode (most common entry) for categorical columns\n",
    "for col in categorical_cols:\n",
    "    mode_value = df_train[col].mode()[0]\n",
    "    df_train[col].fillna(mode_value, inplace=True)\n",
    "    df_validation[col].fillna(mode_value, inplace=True)"
   ]
  },
  {
   "cell_type": "code",
   "execution_count": 5,
   "id": "e648fb5a",
   "metadata": {},
   "outputs": [],
   "source": [
    "# Create a pipeline for categorical features which applies to oen hot encoding\n",
    "categorical_transformer = Pipeline(steps=[\n",
    "    ('onehot', OneHotEncoder(drop='first', handle_unknown='ignore'))\n",
    "])\n",
    "\n",
    "# 'num' pipeline applies StandardScaler to numerical columns to give them a mean of 0 and variance of 1\n",
    "# 'cat' pipeline applies the one-hot encoding pipeline to categorical columns\n",
    "preprocessor = ColumnTransformer(\n",
    "    transformers=[\n",
    "        ('num', StandardScaler(), numerical_cols),\n",
    "        ('cat', categorical_transformer, categorical_cols)\n",
    "    ])"
   ]
  },
  {
   "cell_type": "code",
   "execution_count": 6,
   "id": "5280db7d",
   "metadata": {},
   "outputs": [],
   "source": [
    "# Transform income to binary and prepare data\n",
    "df_train['income'] = df_train['income'].apply(lambda x: 1 if x == '>50K' else 0)\n",
    "y = df_train['income']\n",
    "X = df_train.drop('income', axis=1)"
   ]
  },
  {
   "cell_type": "code",
   "execution_count": 7,
   "id": "d054ecc6",
   "metadata": {},
   "outputs": [],
   "source": [
    "# Apply preprocessing\n",
    "X_preprocessed = preprocessor.fit_transform(X)\n",
    "X_val_preprocessed = preprocessor.transform(df_validation)"
   ]
  },
  {
   "cell_type": "code",
   "execution_count": 8,
   "id": "1c69fad4",
   "metadata": {},
   "outputs": [
    {
     "name": "stdout",
     "output_type": "stream",
     "text": [
      "Train Nulls: 0\n",
      "Validation Nulls: 0\n"
     ]
    }
   ],
   "source": [
    "#Confirmation that there are no null values\n",
    "print(\"Train Nulls:\", pd.DataFrame(X_preprocessed).isnull().sum().sum())\n",
    "print(\"Validation Nulls:\", pd.DataFrame(X_val_preprocessed).isnull().sum().sum())"
   ]
  },
  {
   "cell_type": "code",
   "execution_count": 9,
   "id": "84ca8fc2",
   "metadata": {},
   "outputs": [
    {
     "name": "stdout",
     "output_type": "stream",
     "text": [
      "Training data shape: (18233, 97)\n",
      "Test data shape: (7815, 97)\n"
     ]
    }
   ],
   "source": [
    "# Split data for training and testing\n",
    "# 30 percent of data will be used for testing \n",
    "X_train, X_test, y_train, y_test = train_test_split(X_preprocessed, y, test_size=0.3, random_state=42)\n",
    "print(\"Training data shape:\", X_train.shape)\n",
    "print(\"Test data shape:\", X_test.shape)"
   ]
  },
  {
   "cell_type": "markdown",
   "id": "47572c3f",
   "metadata": {},
   "source": [
    "Hyperparameter Tuning with GridSearchCV for MLP Candidates"
   ]
  },
  {
   "cell_type": "code",
   "execution_count": 10,
   "id": "df5b3b16",
   "metadata": {},
   "outputs": [
    {
     "name": "stdout",
     "output_type": "stream",
     "text": [
      "Fitting 3 folds for each of 32 candidates, totalling 96 fits\n",
      "Best parameters: {'activation': 'relu', 'alpha': 0.001, 'hidden_layer_sizes': (50,), 'learning_rate_init': 0.001}\n",
      "Best cross-validated accuracy: 0.8565\n"
     ]
    }
   ],
   "source": [
    "# Define parameter grid for tuning multiple candidates\n",
    "param_grid = {\n",
    "    'hidden_layer_sizes': [(50,), (100,), (50, 50), (100, 50)],  # Different architectures: single/multi-layer\n",
    "    'activation': ['relu', 'tanh'],  # Common activations\n",
    "    'alpha': [0.0001, 0.001],  # L2 regularization to prevent overfitting\n",
    "    'learning_rate_init': [0.001, 0.01]  # Initial learning rates\n",
    "}\n",
    "\n",
    "# Initialize MLP classifier\n",
    "mlp = MLPClassifier(max_iter=500, random_state=42, early_stopping=True, validation_fraction=0.1)\n",
    "\n",
    "# Perform grid search with 3-fold CV\n",
    "grid_search = GridSearchCV(mlp, param_grid, cv=3, scoring='accuracy', n_jobs=-1, verbose=1)\n",
    "grid_search.fit(X_train, y_train)\n",
    "\n",
    "# Output best parameters and CV score\n",
    "print(f\"Best parameters: {grid_search.best_params_}\")\n",
    "print(f\"Best cross-validated accuracy: {grid_search.best_score_:.4f}\")"
   ]
  },
  {
   "cell_type": "markdown",
   "id": "fef96602",
   "metadata": {},
   "source": [
    "Train Best Model and Predict on Test Set"
   ]
  },
  {
   "cell_type": "code",
   "execution_count": 11,
   "id": "190b2c17",
   "metadata": {},
   "outputs": [
    {
     "name": "stdout",
     "output_type": "stream",
     "text": [
      "Test Accuracy: 0.8482\n",
      "Test Precision: 0.6771\n",
      "Test Recall: 0.6652\n",
      "Test F1-Score: 0.6711\n",
      "\n",
      "Classification Report:\n",
      "\n",
      "              precision    recall  f1-score   support\n",
      "\n",
      "       <=50K       0.90      0.90      0.90      5996\n",
      "        >50K       0.68      0.67      0.67      1819\n",
      "\n",
      "    accuracy                           0.85      7815\n",
      "   macro avg       0.79      0.78      0.79      7815\n",
      "weighted avg       0.85      0.85      0.85      7815\n",
      "\n"
     ]
    },
    {
     "data": {
      "image/png": "[encoded data removed]",
      "text/plain": [
       "<Figure size 640x480 with 2 Axes>"
      ]
     },
     "metadata": {},
     "output_type": "display_data"
    }
   ],
   "source": [
    "# Select the best model\n",
    "best_mlp = grid_search.best_estimator_\n",
    "\n",
    "# Predict on test set\n",
    "y_pred = best_mlp.predict(X_test)\n",
    "y_pred_proba = best_mlp.predict_proba(X_test)[:, 1]  # Probabilities for >50K\n",
    "\n",
    "# Evaluate with metrics\n",
    "accuracy = accuracy_score(y_test, y_pred)\n",
    "precision, recall, f1, _ = precision_recall_fscore_support(y_test, y_pred, average='binary', zero_division=0)\n",
    "\n",
    "print(f\"Test Accuracy: {accuracy:.4f}\")\n",
    "print(f\"Test Precision: {precision:.4f}\")\n",
    "print(f\"Test Recall: {recall:.4f}\")\n",
    "print(f\"Test F1-Score: {f1:.4f}\")\n",
    "\n",
    "# Detailed classification report\n",
    "print(\"\\nClassification Report:\\n\")\n",
    "print(classification_report(y_test, y_pred, target_names=['<=50K', '>50K']))\n",
    "\n",
    "# Confusion Matrix\n",
    "cm = confusion_matrix(y_test, y_pred)\n",
    "disp = ConfusionMatrixDisplay(confusion_matrix=cm, display_labels=['<=50K', '>50K'])\n",
    "disp.plot(cmap=plt.cm.Blues)\n",
    "plt.title('Confusion Matrix for Best MLP Model')\n",
    "plt.show()"
   ]
  },
  {
   "cell_type": "markdown",
   "id": "45057860",
   "metadata": {},
   "source": [
    "Validation Predictions in Required Format"
   ]
  },
  {
   "cell_type": "code",
   "execution_count": 12,
   "id": "f4fdb876",
   "metadata": {},
   "outputs": [
    {
     "name": "stdout",
     "output_type": "stream",
     "text": [
      "Deliverable saved: Group_16_MLP_PredictedOutputs.csv\n"
     ]
    }
   ],
   "source": [
    "# Cell: Generate Deliverable - Validation Predictions in Required Format\n",
    "# Predict on validation set using the best model\n",
    "val_predictions = best_mlp.predict(X_val_preprocessed)\n",
    "\n",
    "# Transform to required format: 1 if >50K else -1\n",
    "val_predictions_transformed = np.where(val_predictions == 1, 1, -1)\n",
    "\n",
    "# Create DataFrame with predictions (index matches validation inputs)\n",
    "val_results = pd.DataFrame({\n",
    "    'PredictedOutputs': val_predictions_transformed\n",
    "}, index=df_validation.index)\n",
    "\n",
    "# Save to required filename (replace # with your group number)\n",
    "filename = f\"Group_16_MLP_PredictedOutputs.csv\"\n",
    "val_results.to_csv(filename)\n",
    "\n",
    "print(f\"Deliverable saved: {filename}\")"
   ]
  }
 ],
 "metadata": {
  "kernelspec": {
   "display_name": "base",
   "language": "python",
   "name": "python3"
  },
  "language_info": {
   "codemirror_mode": {
    "name": "ipython",
    "version": 3
   },
   "file_extension": ".py",
   "mimetype": "text/x-python",
   "name": "python",
   "nbconvert_exporter": "python",
   "pygments_lexer": "ipython3",
   "version": "3.11.7"
  }
 },
 "nbformat": 4,
 "nbformat_minor": 5
}
